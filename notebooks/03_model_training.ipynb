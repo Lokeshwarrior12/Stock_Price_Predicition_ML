{
 "cells": [
  {
   "cell_type": "code",
   "execution_count": null,
   "id": "e2e9faee",
   "metadata": {
    "vscode": {
     "languageId": "plaintext"
    }
   },
   "outputs": [],
   "source": [
    "from src.model.train_lstm_model import train_lstm_model\n",
    "from src.model.train_hybrid_model import train_hybrid_model\n",
    "\n",
    "# Train LSTM\n",
    "lstm_model, history = train_lstm_model(symbol=\"AAPL\", epochs=50, batch_size=32)\n",
    "\n",
    "# Plot losses\n",
    "from utils.plotting import plot_training_loss\n",
    "plot_training_loss(history[\"train\"], history[\"val\"])\n",
    "\n",
    "# Train hybrid ensemble (LSTM + fundamentals)\n",
    "hybrid_model, metrics = train_hybrid_model(symbol=\"AAPL\")\n"
   ]
  }
 ],
 "metadata": {
  "language_info": {
   "name": "python"
  }
 },
 "nbformat": 4,
 "nbformat_minor": 5
}
