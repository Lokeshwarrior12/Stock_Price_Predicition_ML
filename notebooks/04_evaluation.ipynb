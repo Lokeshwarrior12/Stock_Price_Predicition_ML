{
 "cells": [
  {
   "cell_type": "code",
   "execution_count": null,
   "id": "fdbe52eb",
   "metadata": {
    "vscode": {
     "languageId": "plaintext"
    }
   },
   "outputs": [],
   "source": [
    "from src.model.evaluate_model import evaluate_model\n",
    "from genai.market_explainer import generate_prompt, generate_analysis\n",
    "\n",
    "# Evaluate predictions\n",
    "y_true, y_pred = evaluate_model(\"AAPL\")\n",
    "\n",
    "from utils.plotting import plot_actual_vs_predicted\n",
    "plot_actual_vs_predicted(y_true, y_pred)\n",
    "\n",
    "# Generate GenAI analysis\n",
    "prompt = generate_prompt(\"AAPL\", current_price=180, predicted_price=192,\n",
    "                         indicators={\"RSI\": 65, \"MACD\": \"Positive\"}, fundamentals={\"EPS\": 6.25})\n",
    "analysis = generate_analysis(prompt)\n",
    "print(analysis)\n"
   ]
  }
 ],
 "metadata": {
  "language_info": {
   "name": "python"
  }
 },
 "nbformat": 4,
 "nbformat_minor": 5
}
