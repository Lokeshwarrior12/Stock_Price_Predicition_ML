{
 "cells": [
  {
   "cell_type": "code",
   "execution_count": null,
   "id": "97e97406",
   "metadata": {
    "vscode": {
     "languageId": "plaintext"
    }
   },
   "outputs": [],
   "source": [
    "from src.features.feature_utils import add_technical_features\n",
    "from src.features.merge_datasets import merge_all_data\n",
    "\n",
    "df = merge_all_data(\"AAPL\")\n",
    "df = add_technical_features(df)\n",
    "\n",
    "# Correlation analysis\n",
    "from utils.plotting import plot_correlation_heatmap\n",
    "plot_correlation_heatmap(df)\n",
    "\n",
    "# Feature visualization\n",
    "from utils.plotting import plot_feature_trends\n",
    "plot_feature_trends(df, [\"RSI\", \"MACD\", \"EMA_short\", \"EMA_long\"])\n"
   ]
  }
 ],
 "metadata": {
  "language_info": {
   "name": "python"
  }
 },
 "nbformat": 4,
 "nbformat_minor": 5
}
