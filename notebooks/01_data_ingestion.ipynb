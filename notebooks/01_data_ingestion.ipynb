{
 "cells": [
  {
   "cell_type": "code",
   "execution_count": null,
   "id": "bcc4178b",
   "metadata": {
    "vscode": {
     "languageId": "plaintext"
    }
   },
   "outputs": [],
   "source": [
    "from src.data.fetch_price_data import fetch_price_data\n",
    "from src.data.fetch_fundamentals import fetch_fundamentals\n",
    "from src.data.fetch_news_sentiment import fetch_news_articles, analyze_sentiment\n",
    "\n",
    "# 1️⃣ Price data\n",
    "df_price = fetch_price_data(\"AAPL\", start=\"2018-01-01\", end=\"2025-10-01\")\n",
    "df_price.head()\n",
    "\n",
    "# 2️⃣ Fundamentals\n",
    "df_fund = fetch_fundamentals(\"AAPL\")\n",
    "df_fund.head()\n",
    "\n",
    "# 3️⃣ Sentiment\n",
    "articles = fetch_news_articles(\"AAPL\", api_key=\"YOUR_NEWS_API_KEY\", days_back=90)\n",
    "articles = analyze_sentiment(articles, \"yiyanghkust/finbert-tone\")\n",
    "\n",
    "# 4️⃣ Combine preview\n",
    "print(df_price.shape, df_fund.shape, articles.shape)\n"
   ]
  }
 ],
 "metadata": {
  "language_info": {
   "name": "python"
  }
 },
 "nbformat": 4,
 "nbformat_minor": 5
}
